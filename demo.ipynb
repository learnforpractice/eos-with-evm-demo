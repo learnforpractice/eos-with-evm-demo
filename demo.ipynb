{
 "cells": [
  {
   "cell_type": "code",
   "execution_count": 1,
   "metadata": {},
   "outputs": [
    {
     "name": "stdout",
     "output_type": "stream",
     "text": [
      "done!\n"
     ]
    }
   ],
   "source": [
    "from init import *\n",
    "import json\n",
    "from pyeoskit import eosapi\n",
    "from evm import get_eth_address_info, w3\n",
    "\n",
    "#eosapi.set_nodes(['https://nodes.uuos.network:8443'])\n",
    "eosapi.set_nodes(['http://127.0.0.1:8888'])\n",
    "#eosapi.set_nodes(['http://testapi.uuos.network'])\n",
    "\n",
    "\n",
    "config.main_token='EOS'\n",
    "wallet.import_key('test', '5KH8vwQkP4QoTwgBtCV5ZYhKmv8mx56WeNrw9AZuhNRXTrPzgYc')\n",
    "\n",
    "priv_keys = [\n",
    "'5KQwrPbwdL6PhXujxW37FSSQZ1JiwsST4cqQzDeyXtP79zkvFD3',#EOS6MRyAjQq8ud7hVNYcfnVPJqcVpscN5So8BhtHuGYqET5GDW5CV\n",
    "'5JEcwbckBCdmji5j8ZoMHLEUS8TqQiqBG1DRx1X9DN124GUok9s',#EOS61MgZLN7Frbc2J7giU7JdYjy2TqnfWFjZuLXvpHJoKzWAj7Nst\n",
    "'5JbDP55GXN7MLcNYKCnJtfKi9aD2HvHAdY7g8m67zFTAFkY1uBB',#EOS5JuNfuZPATy8oPz9KMZV2asKf9m8fb2bSzftvhW55FKQFakzFL\n",
    "'5K463ynhZoCDDa4RDcr63cUwWLTnKqmdcoTKTHBjqoKfv4u5V7p',#EOS8Znrtgwt8TfpmbVpTKvA2oB8Nqey625CLN8bCN3TEbgx86Dsvr\n",
    "'5KH8vwQkP4QoTwgBtCV5ZYhKmv8mx56WeNrw9AZuhNRXTrPzgYc',#EOS7ent7keWbVgvptfYaMYeF2cenMBiwYKcwEuc11uCbStsFKsrmV\n",
    "'5KT26sGXAywAeUSrQjaRiX9uk9uDGNqC1CSojKByLMp7KRp8Ncw',#EOS8Ep2idd8FkvapNfgUwFCjHBG4EVNAjfUsRRqeghvq9E91tkDaj\n",
    "]\n",
    "for priv_key in priv_keys:\n",
    "    wallet.import_key('test', priv_key)\n",
    "\n",
    "db.reset()\n",
    "print('done!')"
   ]
  },
  {
   "cell_type": "markdown",
   "metadata": {},
   "source": [
    "# Add eosio.code to active permission"
   ]
  },
  {
   "cell_type": "code",
   "execution_count": 2,
   "metadata": {},
   "outputs": [
    {
     "name": "stdout",
     "output_type": "stream",
     "text": [
      "done!\n"
     ]
    }
   ],
   "source": [
    "account_name = 'helloworld11'\n",
    "a = {\n",
    "    \"account\": account_name,\n",
    "    \"permission\": \"active\",\n",
    "    \"parent\": \"owner\",\n",
    "    \"auth\": {\n",
    "        \"threshold\": 1,\n",
    "        \"keys\": [\n",
    "            {\n",
    "                \"key\": \"EOS7ent7keWbVgvptfYaMYeF2cenMBiwYKcwEuc11uCbStsFKsrmV\",\n",
    "                \"weight\": 1\n",
    "            },\n",
    "        ],\n",
    "        \"accounts\": [{\"permission\":{\"actor\":account_name,\"permission\":\"eosio.code\"},\"weight\":1}],\n",
    "        \"waits\": []\n",
    "    }\n",
    "}\n",
    "r = eosapi.push_action('eosio', 'updateauth', a, {account_name:'owner'})\n",
    "print('done!')"
   ]
  },
  {
   "cell_type": "markdown",
   "metadata": {},
   "source": [
    "# Deploy evm smart contract to network"
   ]
  },
  {
   "cell_type": "code",
   "execution_count": 3,
   "metadata": {},
   "outputs": [
    {
     "name": "stdout",
     "output_type": "stream",
     "text": [
      "Done!\n"
     ]
    }
   ],
   "source": [
    "eosapi.clear_abi_cache('helloworld11');\n",
    "source_path = 'ethereum_vm'\n",
    "evm_code_file = os.path.join(source_path, 'ethereum_vm.cpp')\n",
    "deploy_cpp_contract_from_file('helloworld11', evm_code_file, includes = [source_path])\n",
    "print('Done!')"
   ]
  },
  {
   "cell_type": "markdown",
   "metadata": {},
   "source": [
    "# Create an ETH account and bind it to an EOS account"
   ]
  },
  {
   "cell_type": "code",
   "execution_count": 48,
   "metadata": {},
   "outputs": [
    {
     "name": "stdout",
     "output_type": "stream",
     "text": [
      "error:\n",
      " {\n",
      "    \"code\": 500,\n",
      "    \"message\": \"Internal Service Error\",\n",
      "    \"error\": {\n",
      "        \"code\": 3050003,\n",
      "        \"name\": \"eosio_assert_message_exception\",\n",
      "        \"what\": \"eosio_assert_message assertion failure\",\n",
      "        \"details\": [\n",
      "            {\n",
      "                \"message\": \"assertion failure with message: eth address already bind to an EOS account\",\n",
      "                \"file\": \"wasm_interface.cpp\",\n",
      "                \"line_number\": 1091,\n",
      "                \"method\": \"eosio_assert\"\n",
      "            },\n",
      "            {\n",
      "                \"message\": \"pending console output: f375c0d7e20a15b3d35af771763ca166d54cce97\\n\",\n",
      "                \"file\": \"apply_context.cpp\",\n",
      "                \"line_number\": 121,\n",
      "                \"method\": \"exec_one\"\n",
      "            }\n",
      "        ]\n",
      "    }\n",
      "}\n"
     ]
    }
   ],
   "source": [
    "main_account = 'helloworld11'\n",
    "test_account = 'helloworld12'\n",
    "eth_address = None\n",
    "name = 'helloworld11'\n",
    "args = {'account':'helloworld12', 'text': 'hello,world'}\n",
    "try:\n",
    "    r = eosapi.push_action(name, 'create', args, {'helloworld12':'active'})\n",
    "    print('++++console:', r['processed']['action_traces'][0]['console'])\n",
    "    eth_address = r['processed']['action_traces'][0]['receipt']['return_value']\n",
    "    print('+++', eth_address)\n",
    "    eth_address = w3.toChecksumAddress(eth_address)\n",
    "    print('eth address:', eth_address)\n",
    "    print(r['processed']['elapsed'])\n",
    "except Exception as e:\n",
    "    parsed = json.loads(e.response)\n",
    "    print('+++error:\\n', json.dumps(parsed, indent=4))"
   ]
  },
  {
   "cell_type": "markdown",
   "metadata": {},
   "source": [
    "### Verify eth address method 1"
   ]
  },
  {
   "cell_type": "code",
   "execution_count": 52,
   "metadata": {},
   "outputs": [
    {
     "name": "stdout",
     "output_type": "stream",
     "text": [
      "f375c0d7e20a15b3d35af771763ca166d54cce97\n"
     ]
    }
   ],
   "source": [
    "import rlp\n",
    "import hashlib\n",
    "from eth_utils import keccak\n",
    "e = rlp.encode(['helloworld12', 'hello,world'])\n",
    "h = keccak(e)\n",
    "if not eth_address:\n",
    "    assert eth_address == h[12:].hex()\n",
    "else:\n",
    "    eth_address = h[12:].hex()\n",
    "    print(eth_address)"
   ]
  },
  {
   "cell_type": "markdown",
   "metadata": {},
   "source": [
    "### Verify result method 2"
   ]
  },
  {
   "cell_type": "code",
   "execution_count": 30,
   "metadata": {},
   "outputs": [
    {
     "data": {
      "text/plain": [
       "['Requirement already satisfied: pysha3 in /Users/newworld/opt/anaconda3/lib/python3.7/site-packages (1.0.2)']"
      ]
     },
     "execution_count": 30,
     "metadata": {},
     "output_type": "execute_result"
    }
   ],
   "source": [
    "#install pysah3\n",
    "%system python3.7 -m pip install pysha3"
   ]
  },
  {
   "cell_type": "code",
   "execution_count": 54,
   "metadata": {},
   "outputs": [],
   "source": [
    "import rlp\n",
    "import sha3\n",
    "e = rlp.encode(['helloworld12', 'hello,world'])\n",
    "h = sha3.keccak_256()\n",
    "h.update(e)\n",
    "h = h.digest()\n",
    "if eth_address:\n",
    "    assert eth_address == h[12:].hex()\n",
    "else:\n",
    "    eth_address = h[12:].hex()\n",
    "    print(eth_address)"
   ]
  },
  {
   "cell_type": "code",
   "execution_count": 56,
   "metadata": {},
   "outputs": [
    {
     "data": {
      "text/plain": [
       "'0xf375C0D7E20a15b3D35AF771763CA166D54cce97'"
      ]
     },
     "execution_count": 56,
     "metadata": {},
     "output_type": "execute_result"
    }
   ],
   "source": [
    "eth_address = w3.toChecksumAddress(eth_address)\n",
    "eth_address"
   ]
  },
  {
   "cell_type": "markdown",
   "metadata": {},
   "source": [
    "# Deposit Test"
   ]
  },
  {
   "cell_type": "code",
   "execution_count": 5,
   "metadata": {},
   "outputs": [],
   "source": [
    "r = eosapi.transfer('helloworld12', 'helloworld11', 10.0, 'deposit')"
   ]
  },
  {
   "cell_type": "code",
   "execution_count": 8,
   "metadata": {},
   "outputs": [
    {
     "data": {
      "text/plain": [
       "{'nonce': 9, 'balance': '77.0000 SYS'}"
      ]
     },
     "execution_count": 8,
     "metadata": {},
     "output_type": "execute_result"
    }
   ],
   "source": [
    "get_eth_address_info('helloworld11', eth_address)"
   ]
  },
  {
   "cell_type": "code",
   "execution_count": 216,
   "metadata": {},
   "outputs": [],
   "source": [
    "r = eosapi.transfer('helloworld12', 'helloworld11', 1.0, 'deposit')"
   ]
  },
  {
   "cell_type": "code",
   "execution_count": 217,
   "metadata": {},
   "outputs": [
    {
     "name": "stdout",
     "output_type": "stream",
     "text": [
      "+++args: 0100000000000000b0ad0100000000000453595300000000\n"
     ]
    },
    {
     "data": {
      "text/plain": [
       "b'{\"nonce\":1,\"balance\":\"11.0000 SYS\"}'"
      ]
     },
     "execution_count": 217,
     "metadata": {},
     "output_type": "execute_result"
    }
   ],
   "source": [
    "get_eth_address_info('helloworld11', eth_address)"
   ]
  },
  {
   "cell_type": "markdown",
   "metadata": {},
   "source": [
    "# Withdraw Test"
   ]
  },
  {
   "cell_type": "code",
   "execution_count": 218,
   "metadata": {},
   "outputs": [
    {
     "data": {
      "text/plain": [
       "9999989.0"
      ]
     },
     "execution_count": 218,
     "metadata": {},
     "output_type": "execute_result"
    }
   ],
   "source": [
    "eosapi.get_balance('helloworld12')"
   ]
  },
  {
   "cell_type": "markdown",
   "metadata": {},
   "source": [
    "### Check balance in ETH account"
   ]
  },
  {
   "cell_type": "code",
   "execution_count": 219,
   "metadata": {},
   "outputs": [
    {
     "name": "stdout",
     "output_type": "stream",
     "text": [
      "+++args: 0100000000000000b0ad0100000000000453595300000000\n"
     ]
    },
    {
     "data": {
      "text/plain": [
       "b'{\"nonce\":1,\"balance\":\"11.0000 SYS\"}'"
      ]
     },
     "execution_count": 219,
     "metadata": {},
     "output_type": "execute_result"
    }
   ],
   "source": [
    "get_eth_address_info('helloworld11', eth_address)"
   ]
  },
  {
   "cell_type": "markdown",
   "metadata": {},
   "source": [
    "### Withdraw 1.0000"
   ]
  },
  {
   "cell_type": "code",
   "execution_count": 220,
   "metadata": {},
   "outputs": [
    {
     "name": "stdout",
     "output_type": "stream",
     "text": [
      "++++console: 4,SYS4,SYS\n",
      "836\n"
     ]
    }
   ],
   "source": [
    "name = 'helloworld12'\n",
    "args = {'account': name, 'amount': '1.0000 SYS'}\n",
    "try:\n",
    "    r = eosapi.push_action('helloworld11', 'withdraw', args, {name:'active'})\n",
    "    print('++++console:', r['processed']['action_traces'][0]['console'])\n",
    "    print(r['processed']['elapsed'])\n",
    "except Exception as e:\n",
    "    print(e)"
   ]
  },
  {
   "cell_type": "markdown",
   "metadata": {},
   "source": [
    "### Check balance"
   ]
  },
  {
   "cell_type": "code",
   "execution_count": 224,
   "metadata": {},
   "outputs": [
    {
     "data": {
      "text/plain": [
       "9999990.0"
      ]
     },
     "execution_count": 224,
     "metadata": {},
     "output_type": "execute_result"
    }
   ],
   "source": [
    "eosapi.get_balance('helloworld12')"
   ]
  },
  {
   "cell_type": "code",
   "execution_count": 171,
   "metadata": {},
   "outputs": [
    {
     "data": {
      "text/plain": [
       "'0xf375C0D7E20a15b3D35AF771763CA166D54cce97'"
      ]
     },
     "execution_count": 171,
     "metadata": {},
     "output_type": "execute_result"
    }
   ],
   "source": [
    "eth_address"
   ]
  },
  {
   "cell_type": "markdown",
   "metadata": {},
   "source": [
    "### Check balance in binded ETH account"
   ]
  },
  {
   "cell_type": "code",
   "execution_count": 4,
   "metadata": {},
   "outputs": [
    {
     "data": {
      "text/plain": [
       "b'{\"nonce\":1,\"balance\":\"10.0000 SYS\"}'"
      ]
     },
     "execution_count": 4,
     "metadata": {},
     "output_type": "execute_result"
    }
   ],
   "source": [
    "get_eth_address_info('helloworld11', eth_address)"
   ]
  },
  {
   "cell_type": "markdown",
   "metadata": {},
   "source": [
    "bind an eth address through directly\n",
    "```python\n",
    "name = 'helloworld11'\n",
    "args = bytes.fromhex('b654A7A81E0aeb7721A22F27A04ecf5aF0E8a9A3')\n",
    "try:\n",
    "    r = eosapi.push_action(name, 'activate', args, {name:'active'})\n",
    "    print('++++console:', r['processed']['action_traces'][0]['console'])\n",
    "    print(r['processed']['elapsed'])\n",
    "except Exception as e:\n",
    "    print(e)\n",
    "```"
   ]
  },
  {
   "cell_type": "markdown",
   "metadata": {},
   "source": [
    "# Deploy an ethereum smart contract"
   ]
  },
  {
   "cell_type": "code",
   "execution_count": 5,
   "metadata": {},
   "outputs": [
    {
     "name": "stdout",
     "output_type": "stream",
     "text": [
      "Done!\n"
     ]
    }
   ],
   "source": [
    "from solcx import compile_source, compile_files\n",
    "\n",
    "greeter = '''pragma solidity ^0.6.0;\n",
    "contract Greeter {\n",
    "    uint value;\n",
    "    event onSetValue(uint value);\n",
    "    event onGetValue(uint value);\n",
    "    constructor() public {\n",
    "        value = 1;\n",
    "    }\n",
    "\n",
    "    function getValue2() payable public returns (uint){\n",
    "//        msg.sender.transfer(1000);\n",
    "        emit onGetValue(value);\n",
    "        return value;\n",
    "    }\n",
    "\n",
    "    function getValue() payable public returns (string memory){\n",
    "        return \"hello,world\";\n",
    "    }\n",
    "\n",
    "    function setValue(uint v) payable public {\n",
    "        value = v;\n",
    "        emit onSetValue(v);\n",
    "    }\n",
    "}\n",
    "'''\n",
    "\n",
    "def compile(contract_source_code, main_class):\n",
    "    compiled_sol = compile_source(contract_source_code) # Compiled source code\n",
    "    contract_interface = compiled_sol[main_class]\n",
    "\n",
    "    return contract_interface\n",
    "\n",
    "\n",
    "main_class = '<stdin>:Greeter'\n",
    "contract_source_code = greeter\n",
    "contract_interface = compile(contract_source_code, main_class)\n",
    "bytecode = contract_interface['bin']\n",
    "abi = contract_interface['abi']\n",
    "print('Done!')"
   ]
  },
  {
   "cell_type": "code",
   "execution_count": 6,
   "metadata": {
    "scrolled": false
   },
   "outputs": [
    {
     "name": "stdout",
     "output_type": "stream",
     "text": [
      "----request_func eth_sendTransaction [{'from': '0xf375C0D7E20a15b3D35AF771763CA166D54cce97', 'data': '0x608060405234801561001057600080fd5b5060016000819055506101ff806100286000396000f3fe6080604052600436106100345760003560e01c8063209652551461003957806355241077146100bc578063c515205d146100ea575b600080fd5b610041610108565b6040518080602001828103825283818151815260200191508051906020019080838360005b83811015610081578082015181840152602081019050610066565b50505050905090810190601f1680156100ae5780820380516001836020036101000a031916815260200191505b509250505060405180910390f35b6100e8600480360360208110156100d257600080fd5b8101908080359060200190929190505050610145565b005b6100f2610186565b6040518082815260200191505060405180910390f35b60606040518060400160405280600b81526020017f68656c6c6f2c776f726c64000000000000000000000000000000000000000000815250905090565b806000819055507ff48a1dc57eefa3de4406e65fc0fc377b25d100bd06429201a01a9e8e0e1d0773816040518082815260200191505060405180910390a150565b60007f29325e60ff39fad605f9bb4f2fd7cc0ee8e778b3f52cb561c2d8eebfcec4ca4b6000546040518082815260200191505060405180910390a160005490509056fea2646970667358221220431489fdbcfafc917a088093e7689d4e0daf29b57b355f85854663eda5eccb3764736f6c63430006000033', 'gas': 100088}]\n",
      "{'data': '0x608060405234801561001057600080fd5b5060016000819055506101ff806100286000396000f3fe6080604052600436106100345760003560e01c8063209652551461003957806355241077146100bc578063c515205d146100ea575b600080fd5b610041610108565b6040518080602001828103825283818151815260200191508051906020019080838360005b83811015610081578082015181840152602081019050610066565b50505050905090810190601f1680156100ae5780820380516001836020036101000a031916815260200191505b509250505060405180910390f35b6100e8600480360360208110156100d257600080fd5b8101908080359060200190929190505050610145565b005b6100f2610186565b6040518082815260200191505060405180910390f35b60606040518060400160405280600b81526020017f68656c6c6f2c776f726c64000000000000000000000000000000000000000000815250905090565b806000819055507ff48a1dc57eefa3de4406e65fc0fc377b25d100bd06429201a01a9e8e0e1d0773816040518082815260200191505060405180910390a150565b60007f29325e60ff39fad605f9bb4f2fd7cc0ee8e778b3f52cb561c2d8eebfcec4ca4b6000546040518082815260200191505060405180910390a160005490509056fea2646970667358221220431489fdbcfafc917a088093e7689d4e0daf29b57b355f85854663eda5eccb3764736f6c63430006000033', 'gas': 20000000, 'nonce': 0, 'gasPrice': 1}\n",
      "logs: []\n",
      "+++++output: {\"new_address\":\"0633a42c777f64f895de1b0097de00c8d181a5e9\",\"output\":\"6080604052600436106100345760003560e01c8063209652551461003957806355241077146100bc578063c515205d146100ea575b600080fd5b610041610108565b6040518080602001828103825283818151815260200191508051906020019080838360005b83811015610081578082015181840152602081019050610066565b50505050905090810190601f1680156100ae5780820380516001836020036101000a031916815260200191505b509250505060405180910390f35b6100e8600480360360208110156100d257600080fd5b8101908080359060200190929190505050610145565b005b6100f2610186565b6040518082815260200191505060405180910390f35b60606040518060400160405280600b81526020017f68656c6c6f2c776f726c64000000000000000000000000000000000000000000815250905090565b806000819055507ff48a1dc57eefa3de4406e65fc0fc377b25d100bd06429201a01a9e8e0e1d0773816040518082815260200191505060405180910390a150565b60007f29325e60ff39fad605f9bb4f2fd7cc0ee8e778b3f52cb561c2d8eebfcec4ca4b6000546040518082815260200191505060405180910390a160005490509056fea2646970667358221220431489fdbcfafc917a088093e7689d4e0daf29b57b355f85854663eda5eccb3764736f6c63430006000033\"}\n",
      "{'new_address': '0633a42c777f64f895de1b0097de00c8d181a5e9', 'output': '6080604052600436106100345760003560e01c8063209652551461003957806355241077146100bc578063c515205d146100ea575b600080fd5b610041610108565b6040518080602001828103825283818151815260200191508051906020019080838360005b83811015610081578082015181840152602081019050610066565b50505050905090810190601f1680156100ae5780820380516001836020036101000a031916815260200191505b509250505060405180910390f35b6100e8600480360360208110156100d257600080fd5b8101908080359060200190929190505050610145565b005b6100f2610186565b6040518082815260200191505060405180910390f35b60606040518060400160405280600b81526020017f68656c6c6f2c776f726c64000000000000000000000000000000000000000000815250905090565b806000819055507ff48a1dc57eefa3de4406e65fc0fc377b25d100bd06429201a01a9e8e0e1d0773816040518082815260200191505060405180910390a150565b60007f29325e60ff39fad605f9bb4f2fd7cc0ee8e778b3f52cb561c2d8eebfcec4ca4b6000546040518082815260200191505060405180910390a160005490509056fea2646970667358221220431489fdbcfafc917a088093e7689d4e0daf29b57b355f85854663eda5eccb3764736f6c63430006000033'}\n",
      "0x0633A42c777f64f895dE1B0097de00C8D181A5e9\n"
     ]
    }
   ],
   "source": [
    "Greeter = w3.eth.contract(abi=abi, bytecode=bytecode)\n",
    "ret = Greeter.constructor().transact({'from':'0xf375C0D7E20a15b3D35AF771763CA166D54cce97'})\n",
    "logs = ret['processed']['action_traces'][0]['console']\n",
    "print('logs:', logs)\n",
    "output = ret['processed']['action_traces'][0]['receipt']['return_value']\n",
    "output = bytes.fromhex(output)\n",
    "output = output.decode('utf8')\n",
    "print('+++++output:', output)\n",
    "output = json.loads(output)\n",
    "print(output)\n",
    "contract_address = w3.toChecksumAddress(output['new_address'])\n",
    "print(contract_address)"
   ]
  },
  {
   "cell_type": "markdown",
   "metadata": {},
   "source": [
    "#### Call setValue in ethereum smart contract"
   ]
  },
  {
   "cell_type": "code",
   "execution_count": 7,
   "metadata": {},
   "outputs": [
    {
     "data": {
      "text/plain": [
       "'0x0633A42c777f64f895dE1B0097de00C8D181A5e9'"
      ]
     },
     "execution_count": 7,
     "metadata": {},
     "output_type": "execute_result"
    }
   ],
   "source": [
    "contract_address"
   ]
  },
  {
   "cell_type": "code",
   "execution_count": 15,
   "metadata": {},
   "outputs": [
    {
     "name": "stdout",
     "output_type": "stream",
     "text": [
      "----request_func eth_sendTransaction [{'from': '0xf375C0D7E20a15b3D35AF771763CA166D54cce97', 'to': '0x0633A42c777f64f895dE1B0097de00C8D181A5e9', 'data': '0x5524107700000000000000000000000000000000000000000000000000000000ffaabbcc', 'gas': 100088}]\n",
      "{'to': '0x0633A42c777f64f895dE1B0097de00C8D181A5e9', 'data': '0x5524107700000000000000000000000000000000000000000000000000000000ffaabbcc', 'gas': 20000000, 'nonce': 0, 'gasPrice': 1}\n",
      "++++ HTTPConnectionPool(host='198.54.123.58', port=8800): Max retries exceeded with url: /v1/chain/get_info (Caused by NewConnectionError('<urllib3.connection.HTTPConnection object at 0x108526610>: Failed to establish a new connection: [Errno 61] Connection refused'))\n"
     ]
    },
    {
     "ename": "TypeError",
     "evalue": "'NoneType' object is not subscriptable",
     "output_type": "error",
     "traceback": [
      "\u001b[0;31m---------------------------------------------------------------------------\u001b[0m",
      "\u001b[0;31mTypeError\u001b[0m                                 Traceback (most recent call last)",
      "\u001b[0;32m<ipython-input-15-848582f127b9>\u001b[0m in \u001b[0;36m<module>\u001b[0;34m\u001b[0m\n\u001b[1;32m      1\u001b[0m \u001b[0margs\u001b[0m \u001b[0;34m=\u001b[0m \u001b[0;34m{\u001b[0m\u001b[0;34m'from'\u001b[0m\u001b[0;34m:\u001b[0m \u001b[0meth_address\u001b[0m\u001b[0;34m,\u001b[0m\u001b[0;34m'to'\u001b[0m\u001b[0;34m:\u001b[0m\u001b[0mcontract_address\u001b[0m\u001b[0;34m}\u001b[0m\u001b[0;34m\u001b[0m\u001b[0;34m\u001b[0m\u001b[0m\n\u001b[1;32m      2\u001b[0m \u001b[0mret\u001b[0m \u001b[0;34m=\u001b[0m \u001b[0mGreeter\u001b[0m\u001b[0;34m.\u001b[0m\u001b[0mfunctions\u001b[0m\u001b[0;34m.\u001b[0m\u001b[0msetValue\u001b[0m\u001b[0;34m(\u001b[0m\u001b[0;36m0xffaabbcc\u001b[0m\u001b[0;34m)\u001b[0m\u001b[0;34m.\u001b[0m\u001b[0mtransact\u001b[0m\u001b[0;34m(\u001b[0m\u001b[0margs\u001b[0m\u001b[0;34m)\u001b[0m\u001b[0;34m\u001b[0m\u001b[0;34m\u001b[0m\u001b[0m\n\u001b[0;32m----> 3\u001b[0;31m \u001b[0mlogs\u001b[0m \u001b[0;34m=\u001b[0m \u001b[0mret\u001b[0m\u001b[0;34m[\u001b[0m\u001b[0;34m'processed'\u001b[0m\u001b[0;34m]\u001b[0m\u001b[0;34m[\u001b[0m\u001b[0;34m'action_traces'\u001b[0m\u001b[0;34m]\u001b[0m\u001b[0;34m[\u001b[0m\u001b[0;36m0\u001b[0m\u001b[0;34m]\u001b[0m\u001b[0;34m[\u001b[0m\u001b[0;34m'console'\u001b[0m\u001b[0;34m]\u001b[0m\u001b[0;34m\u001b[0m\u001b[0;34m\u001b[0m\u001b[0m\n\u001b[0m\u001b[1;32m      4\u001b[0m \u001b[0moutput\u001b[0m \u001b[0;34m=\u001b[0m \u001b[0mret\u001b[0m\u001b[0;34m[\u001b[0m\u001b[0;34m'processed'\u001b[0m\u001b[0;34m]\u001b[0m\u001b[0;34m[\u001b[0m\u001b[0;34m'action_traces'\u001b[0m\u001b[0;34m]\u001b[0m\u001b[0;34m[\u001b[0m\u001b[0;36m0\u001b[0m\u001b[0;34m]\u001b[0m\u001b[0;34m[\u001b[0m\u001b[0;34m'receipt'\u001b[0m\u001b[0;34m]\u001b[0m\u001b[0;34m[\u001b[0m\u001b[0;34m'return_value'\u001b[0m\u001b[0;34m]\u001b[0m\u001b[0;34m\u001b[0m\u001b[0;34m\u001b[0m\u001b[0m\n\u001b[1;32m      5\u001b[0m \u001b[0moutput\u001b[0m \u001b[0;34m=\u001b[0m \u001b[0mbytes\u001b[0m\u001b[0;34m.\u001b[0m\u001b[0mfromhex\u001b[0m\u001b[0;34m(\u001b[0m\u001b[0moutput\u001b[0m\u001b[0;34m)\u001b[0m\u001b[0;34m\u001b[0m\u001b[0;34m\u001b[0m\u001b[0m\n",
      "\u001b[0;31mTypeError\u001b[0m: 'NoneType' object is not subscriptable"
     ]
    }
   ],
   "source": [
    "args = {'from': eth_address,'to':contract_address}\n",
    "ret = Greeter.functions.setValue(0xffaabbcc).transact(args)\n",
    "logs = ret['processed']['action_traces'][0]['console']\n",
    "output = ret['processed']['action_traces'][0]['receipt']['return_value']\n",
    "output = bytes.fromhex(output)\n",
    "output = output.decode('utf8')\n",
    "output = json.loads(output)\n",
    "print('+++logs:', logs)\n",
    "print('+++output:', output)"
   ]
  },
  {
   "cell_type": "code",
   "execution_count": 208,
   "metadata": {},
   "outputs": [
    {
     "name": "stdout",
     "output_type": "stream",
     "text": [
      "[{'address': '3465938531e1bd44d4ce10fb849b47ba7fed073f', 'data': '5524107700000000000000000000000000000000000000000000000000000000ffaabbcc', 'topics': ['f48a1dc57eefa3de4406e65fc0fc377b25d100bd06429201a01a9e8e0e1d0773']}]\n"
     ]
    }
   ],
   "source": [
    "a = '[{\"address\":\"3465938531e1bd44d4ce10fb849b47ba7fed073f\",\"data\" :\"5524107700000000000000000000000000000000000000000000000000000000ffaabbcc\",\"topics\" :[\"f48a1dc57eefa3de4406e65fc0fc377b25d100bd06429201a01a9e8e0e1d0773\"]}]'\n",
    "aa = json.loads(a)\n",
    "print(aa)"
   ]
  },
  {
   "cell_type": "markdown",
   "metadata": {},
   "source": [
    "# transfer test"
   ]
  },
  {
   "cell_type": "code",
   "execution_count": 10,
   "metadata": {},
   "outputs": [
    {
     "data": {
      "text/plain": [
       "b'{\"nonce\":4,\"balance\":\"10.0000 SYS\"}'"
      ]
     },
     "execution_count": 10,
     "metadata": {},
     "output_type": "execute_result"
    }
   ],
   "source": [
    "get_eth_address_info('helloworld11', eth_address)"
   ]
  },
  {
   "cell_type": "code",
   "execution_count": 11,
   "metadata": {},
   "outputs": [
    {
     "data": {
      "text/plain": [
       "b'{\"nonce\":2,\"balance\":\"0.0000 SYS\"}'"
      ]
     },
     "execution_count": 11,
     "metadata": {},
     "output_type": "execute_result"
    }
   ],
   "source": [
    "get_eth_address_info('helloworld11', contract_address)"
   ]
  },
  {
   "cell_type": "markdown",
   "metadata": {},
   "source": [
    "### setValue and transfer 1.0 to contract address"
   ]
  },
  {
   "cell_type": "code",
   "execution_count": 12,
   "metadata": {},
   "outputs": [
    {
     "name": "stdout",
     "output_type": "stream",
     "text": [
      "transfer from  0xf375C0D7E20a15b3D35AF771763CA166D54cce97 to 0x0633A42c777f64f895dE1B0097de00C8D181A5e9\n",
      "----request_func eth_sendTransaction [{'from': '0xf375C0D7E20a15b3D35AF771763CA166D54cce97', 'to': '0x0633A42c777f64f895dE1B0097de00C8D181A5e9', 'value': 10000, 'data': '0x5524107700000000000000000000000000000000000000000000000000000000ffaabbcc', 'gas': 100088}]\n",
      "{'to': '0x0633A42c777f64f895dE1B0097de00C8D181A5e9', 'value': 10000, 'data': '0x5524107700000000000000000000000000000000000000000000000000000000ffaabbcc', 'gas': 20000000, 'nonce': 0, 'gasPrice': 1}\n",
      "[{\"address\":\"0633a42c777f64f895de1b0097de00c8d181a5e9\",\"data\" :\"5524107700000000000000000000000000000000000000000000000000000000ffaabbcc\",\"topics\" :[\"f48a1dc57eefa3de4406e65fc0fc377b25d100bd06429201a01a9e8e0e1d0773\"]}]\n",
      "{'new_address': '0000000000000000000000000000000000000000', 'output': ''}\n"
     ]
    }
   ],
   "source": [
    "print('transfer from ', eth_address, 'to', contract_address)\n",
    "args = {'from': eth_address,'to':contract_address, 'value':10000}\n",
    "ret = Greeter.functions.setValue(0xffaabbcc).transact(args)\n",
    "logs = ret['processed']['action_traces'][0]['console']\n",
    "output = ret['processed']['action_traces'][0]['receipt']['return_value']\n",
    "output = bytes.fromhex(output)\n",
    "output = output.decode('utf8')\n",
    "output = json.loads(output)\n",
    "print(logs)\n",
    "print(output)"
   ]
  },
  {
   "cell_type": "markdown",
   "metadata": {},
   "source": [
    "### get address info"
   ]
  },
  {
   "cell_type": "code",
   "execution_count": 13,
   "metadata": {},
   "outputs": [
    {
     "data": {
      "text/plain": [
       "b'{\"nonce\":5,\"balance\":\"9.0000 SYS\"}'"
      ]
     },
     "execution_count": 13,
     "metadata": {},
     "output_type": "execute_result"
    }
   ],
   "source": [
    "get_eth_address_info('helloworld11', eth_address)"
   ]
  },
  {
   "cell_type": "code",
   "execution_count": 14,
   "metadata": {},
   "outputs": [
    {
     "data": {
      "text/plain": [
       "b'{\"nonce\":2,\"balance\":\"1.0000 SYS\"}'"
      ]
     },
     "execution_count": 14,
     "metadata": {},
     "output_type": "execute_result"
    }
   ],
   "source": [
    "get_eth_address_info('helloworld11', contract_address)"
   ]
  },
  {
   "cell_type": "code",
   "execution_count": null,
   "metadata": {},
   "outputs": [],
   "source": [
    "\n",
    "\n",
    "\n",
    "\n",
    "\n",
    "\n",
    "\n",
    "\n",
    "\n",
    "\n",
    "\n",
    "\n",
    "\n",
    "\n"
   ]
  },
  {
   "cell_type": "code",
   "execution_count": 119,
   "metadata": {},
   "outputs": [
    {
     "data": {
      "text/plain": [
       "'0xf48a1dc57eefa3de4406e65fc0fc377b25d100bd06429201a01a9e8e0e1d0773'"
      ]
     },
     "execution_count": 119,
     "metadata": {},
     "output_type": "execute_result"
    }
   ],
   "source": [
    "w3.keccak(text=\"onSetValue(uint256)\").hex()"
   ]
  },
  {
   "cell_type": "code",
   "execution_count": 13,
   "metadata": {},
   "outputs": [
    {
     "name": "stdout",
     "output_type": "stream",
     "text": [
      "b'**@\\x1e\\x99\\xb8\\xb02\\xfc\\xb2\\x0c2\\n\\xf2\\xbc\\x06b\"\\xeb\\xa7\\xc0In\\x01\"\\x00\\xe5\\x8c\\xaf\\x1b\\xfbZ' 0xb654A7A81E0aeb7721A22F27A04ecf5aF0E8a9A3\n"
     ]
    }
   ],
   "source": [
    "a = w3.eth.account.privateKeyToAccount('0x2a2a401e99b8b032fcb20c320af2bc066222eba7c0496e012200e58caf1bfb5a')\n",
    "print(a.key, a.address)"
   ]
  },
  {
   "cell_type": "code",
   "execution_count": null,
   "metadata": {},
   "outputs": [],
   "source": [
    "from web3.auto import w3\n",
    "acct = w3.eth.account.create('KEYSMASH FJAFJKLDSKF7JKFDJ 1530')\n",
    "print(acct.address)\n",
    "acct.privateKey.hex()\n",
    "#0xb654A7A81E0aeb7721A22F27A04ecf5aF0E8a9A3\n",
    "#'0x2a2a401e99b8b032fcb20c320af2bc066222eba7c0496e012200e58caf1bfb5a'"
   ]
  }
 ],
 "metadata": {
  "kernelspec": {
   "display_name": "Python 3",
   "language": "python",
   "name": "python3"
  },
  "language_info": {
   "codemirror_mode": {
    "name": "ipython",
    "version": 3
   },
   "file_extension": ".py",
   "mimetype": "text/x-python",
   "name": "python",
   "nbconvert_exporter": "python",
   "pygments_lexer": "ipython3",
   "version": "3.7.4"
  }
 },
 "nbformat": 4,
 "nbformat_minor": 2
}
