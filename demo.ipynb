{
 "cells": [
  {
   "cell_type": "markdown",
   "metadata": {},
   "source": [
    "# Initailize"
   ]
  },
  {
   "cell_type": "code",
   "execution_count": 303,
   "metadata": {},
   "outputs": [
    {
     "name": "stdout",
     "output_type": "stream",
     "text": [
      "done!\n"
     ]
    }
   ],
   "source": [
    "from init import *\n",
    "import json\n",
    "from pyeoskit import eosapi\n",
    "# import imp\n",
    "# imp.reload(evm)\n",
    "\n",
    "import evm\n",
    "from evm import get_eth_address_info, w3\n",
    "\n",
    "eosapi.set_node('http://127.0.0.1:8888')\n",
    "\n",
    "config.main_token='EOS'\n",
    "wallet.import_key('test', '5KH8vwQkP4QoTwgBtCV5ZYhKmv8mx56WeNrw9AZuhNRXTrPzgYc')\n",
    "\n",
    "priv_keys = [\n",
    "'5KQwrPbwdL6PhXujxW37FSSQZ1JiwsST4cqQzDeyXtP79zkvFD3',#EOS6MRyAjQq8ud7hVNYcfnVPJqcVpscN5So8BhtHuGYqET5GDW5CV\n",
    "'5JEcwbckBCdmji5j8ZoMHLEUS8TqQiqBG1DRx1X9DN124GUok9s',#EOS61MgZLN7Frbc2J7giU7JdYjy2TqnfWFjZuLXvpHJoKzWAj7Nst\n",
    "'5JbDP55GXN7MLcNYKCnJtfKi9aD2HvHAdY7g8m67zFTAFkY1uBB',#EOS5JuNfuZPATy8oPz9KMZV2asKf9m8fb2bSzftvhW55FKQFakzFL\n",
    "'5K463ynhZoCDDa4RDcr63cUwWLTnKqmdcoTKTHBjqoKfv4u5V7p',#EOS8Znrtgwt8TfpmbVpTKvA2oB8Nqey625CLN8bCN3TEbgx86Dsvr\n",
    "'5KH8vwQkP4QoTwgBtCV5ZYhKmv8mx56WeNrw9AZuhNRXTrPzgYc',#EOS7ent7keWbVgvptfYaMYeF2cenMBiwYKcwEuc11uCbStsFKsrmV\n",
    "'5KT26sGXAywAeUSrQjaRiX9uk9uDGNqC1CSojKByLMp7KRp8Ncw',#EOS8Ep2idd8FkvapNfgUwFCjHBG4EVNAjfUsRRqeghvq9E91tkDaj\n",
    "]\n",
    "for priv_key in priv_keys:\n",
    "    wallet.import_key('test', priv_key)\n",
    "\n",
    "db.reset()\n",
    "\n",
    "evm.set_chain_id(888)\n",
    "print('done!')"
   ]
  },
  {
   "cell_type": "markdown",
   "metadata": {},
   "source": [
    "# Add eosio.code to active permission"
   ]
  },
  {
   "cell_type": "code",
   "execution_count": 304,
   "metadata": {},
   "outputs": [
    {
     "name": "stdout",
     "output_type": "stream",
     "text": [
      "done!\n"
     ]
    }
   ],
   "source": [
    "account_name = 'helloworld11'\n",
    "a = {\n",
    "    \"account\": account_name,\n",
    "    \"permission\": \"active\",\n",
    "    \"parent\": \"owner\",\n",
    "    \"auth\": {\n",
    "        \"threshold\": 1,\n",
    "        \"keys\": [\n",
    "            {\n",
    "                \"key\": \"EOS7ent7keWbVgvptfYaMYeF2cenMBiwYKcwEuc11uCbStsFKsrmV\",\n",
    "                \"weight\": 1\n",
    "            },\n",
    "        ],\n",
    "        \"accounts\": [{\"permission\":{\"actor\":account_name,\"permission\":\"eosio.code\"},\"weight\":1}],\n",
    "        \"waits\": []\n",
    "    }\n",
    "}\n",
    "r = eosapi.push_action('eosio', 'updateauth', a, {account_name:'owner'})\n",
    "print('done!')"
   ]
  },
  {
   "cell_type": "markdown",
   "metadata": {},
   "source": [
    "# Deploy evm smart contract to network"
   ]
  },
  {
   "cell_type": "code",
   "execution_count": 312,
   "metadata": {
    "scrolled": true
   },
   "outputs": [
    {
     "name": "stdout",
     "output_type": "stream",
     "text": [
      "update contract\n",
      "Done!\n"
     ]
    }
   ],
   "source": [
    "try:\n",
    "    eosapi.clear_abi_cache('helloworld11');\n",
    "except Exception as e:\n",
    "    print(e)\n",
    "\n",
    "source_path = 'ethereum_vm'\n",
    "#source_path = '/Users/newworld/dev/eos-with-evm/contracts/ethereum_vm'\n",
    "\n",
    "evm_code_file = os.path.join(source_path, 'ethereum_vm.cpp')\n",
    "deploy_cpp_contract_from_file('helloworld11', evm_code_file, includes = [source_path])\n",
    "print('Done!')"
   ]
  },
  {
   "cell_type": "code",
   "execution_count": 313,
   "metadata": {},
   "outputs": [
    {
     "name": "stdout",
     "output_type": "stream",
     "text": [
      "1795\n"
     ]
    }
   ],
   "source": [
    "main_account = 'helloworld11'\n",
    "test_account = 'helloworld12'\n",
    "\n",
    "args = {'chainid': 888}\n",
    "try:\n",
    "    r = eosapi.push_action(main_account, 'setchainid', args, {main_account:'active'})\n",
    "    print(r['processed']['elapsed'])\n",
    "except Exception as e:\n",
    "    print(e)"
   ]
  },
  {
   "cell_type": "markdown",
   "metadata": {},
   "source": [
    "# Create an ETH account and bind it to an EOS account"
   ]
  },
  {
   "cell_type": "code",
   "execution_count": 314,
   "metadata": {},
   "outputs": [
    {
     "name": "stdout",
     "output_type": "stream",
     "text": [
      "+++ f375c0d7e20a15b3d35af771763ca166d54cce97\n",
      "eth address: 0xf375C0D7E20a15b3D35AF771763CA166D54cce97\n",
      "++++console: f375c0d7e20a15b3d35af771763ca166d54cce97\n",
      "24073\n"
     ]
    }
   ],
   "source": [
    "\n",
    "eth_address = None\n",
    "name = 'helloworld11'\n",
    "args = {'account':'helloworld12', 'text': 'hello,world'}\n",
    "try:\n",
    "    r = eosapi.push_action(name, 'create', args, {'helloworld12':'active'})\n",
    "    eth_address = r['processed']['action_traces'][0]['receipt']['return_value']\n",
    "    print('+++', eth_address)\n",
    "#    eth_address = w3.toChecksumAddress(eth_address)\n",
    "    print('eth address:', eth_address)\n",
    "    print('++++console:', r['processed']['action_traces'][0]['console'])\n",
    "    print(r['processed']['elapsed'])\n",
    "except Exception as e:\n",
    "    if hasattr(e, 'response'):\n",
    "        parsed = json.loads(e.response)\n",
    "        print('+++error:\\n', json.dumps(parsed, indent=4))\n",
    "    else:\n",
    "        print(e)"
   ]
  },
  {
   "cell_type": "markdown",
   "metadata": {},
   "source": [
    "### Verify eth address method 1"
   ]
  },
  {
   "cell_type": "code",
   "execution_count": 321,
   "metadata": {},
   "outputs": [
    {
     "name": "stdout",
     "output_type": "stream",
     "text": [
      "f375c0d7e20a15b3d35af771763ca166d54cce97\n"
     ]
    }
   ],
   "source": [
    "import rlp\n",
    "import hashlib\n",
    "from eth_utils import keccak\n",
    "e = rlp.encode(['helloworld12', 'hello,world'])\n",
    "h = keccak(e)\n",
    "if eth_address:\n",
    "    print(h[12:].hex())\n",
    "    assert eth_address == h[12:].hex()\n",
    "else:\n",
    "    eth_address = h[12:].hex()\n",
    "    print(eth_address)"
   ]
  },
  {
   "cell_type": "markdown",
   "metadata": {},
   "source": [
    "### Verify result method 2"
   ]
  },
  {
   "cell_type": "code",
   "execution_count": 30,
   "metadata": {},
   "outputs": [
    {
     "data": {
      "text/plain": [
       "['Requirement already satisfied: pysha3 in /Users/newworld/opt/anaconda3/lib/python3.7/site-packages (1.0.2)']"
      ]
     },
     "execution_count": 30,
     "metadata": {},
     "output_type": "execute_result"
    }
   ],
   "source": [
    "#install pysah3\n",
    "%system python3.7 -m pip install pysha3"
   ]
  },
  {
   "cell_type": "code",
   "execution_count": 322,
   "metadata": {},
   "outputs": [],
   "source": [
    "import rlp\n",
    "import sha3\n",
    "e = rlp.encode(['helloworld12', 'hello,world'])\n",
    "h = sha3.keccak_256()\n",
    "h.update(e)\n",
    "h = h.digest()\n",
    "if eth_address:\n",
    "    assert eth_address == h[12:].hex()\n",
    "else:\n",
    "    eth_address = h[12:].hex()\n",
    "    print(eth_address)"
   ]
  },
  {
   "cell_type": "code",
   "execution_count": 323,
   "metadata": {},
   "outputs": [
    {
     "name": "stdout",
     "output_type": "stream",
     "text": [
      "0xf375C0D7E20a15b3D35AF771763CA166D54cce97\n"
     ]
    }
   ],
   "source": [
    "eth_address = w3.toChecksumAddress(eth_address)\n",
    "print(eth_address)"
   ]
  },
  {
   "cell_type": "markdown",
   "metadata": {},
   "source": [
    "# Deposit Test"
   ]
  },
  {
   "cell_type": "code",
   "execution_count": 324,
   "metadata": {},
   "outputs": [],
   "source": [
    "r = eosapi.transfer('helloworld12', 'helloworld11', 10.0, 'deposit')"
   ]
  },
  {
   "cell_type": "code",
   "execution_count": 325,
   "metadata": {},
   "outputs": [
    {
     "data": {
      "text/plain": [
       "{'nonce': 1, 'balance': '10.0000 SYS'}"
      ]
     },
     "execution_count": 325,
     "metadata": {},
     "output_type": "execute_result"
    }
   ],
   "source": [
    "get_eth_address_info('helloworld11', eth_address)"
   ]
  },
  {
   "cell_type": "code",
   "execution_count": 326,
   "metadata": {},
   "outputs": [],
   "source": [
    "r = eosapi.transfer('helloworld12', 'helloworld11', 1.0, 'deposit')"
   ]
  },
  {
   "cell_type": "code",
   "execution_count": 327,
   "metadata": {},
   "outputs": [
    {
     "data": {
      "text/plain": [
       "{'nonce': 1, 'balance': '11.0000 SYS'}"
      ]
     },
     "execution_count": 327,
     "metadata": {},
     "output_type": "execute_result"
    }
   ],
   "source": [
    "get_eth_address_info('helloworld11', eth_address)"
   ]
  },
  {
   "cell_type": "markdown",
   "metadata": {},
   "source": [
    "# Withdraw Test"
   ]
  },
  {
   "cell_type": "code",
   "execution_count": 328,
   "metadata": {},
   "outputs": [
    {
     "data": {
      "text/plain": [
       "9999989.0"
      ]
     },
     "execution_count": 328,
     "metadata": {},
     "output_type": "execute_result"
    }
   ],
   "source": [
    "eosapi.get_balance('helloworld12')"
   ]
  },
  {
   "cell_type": "markdown",
   "metadata": {},
   "source": [
    "### Check balance in ETH account"
   ]
  },
  {
   "cell_type": "code",
   "execution_count": 329,
   "metadata": {},
   "outputs": [
    {
     "data": {
      "text/plain": [
       "{'nonce': 1, 'balance': '11.0000 SYS'}"
      ]
     },
     "execution_count": 329,
     "metadata": {},
     "output_type": "execute_result"
    }
   ],
   "source": [
    "get_eth_address_info('helloworld11', eth_address)"
   ]
  },
  {
   "cell_type": "markdown",
   "metadata": {},
   "source": [
    "### Withdraw 1.0000"
   ]
  },
  {
   "cell_type": "code",
   "execution_count": 330,
   "metadata": {},
   "outputs": [
    {
     "name": "stdout",
     "output_type": "stream",
     "text": [
      "++++console: 4,SYS4,SYS\n",
      "930\n"
     ]
    }
   ],
   "source": [
    "name = 'helloworld12'\n",
    "args = {'account': name, 'amount': '1.0000 SYS'}\n",
    "try:\n",
    "    r = eosapi.push_action('helloworld11', 'withdraw', args, {name:'active'})\n",
    "    print('++++console:', r['processed']['action_traces'][0]['console'])\n",
    "    print(r['processed']['elapsed'])\n",
    "except Exception as e:\n",
    "    print(e)"
   ]
  },
  {
   "cell_type": "markdown",
   "metadata": {},
   "source": [
    "### Check balance"
   ]
  },
  {
   "cell_type": "code",
   "execution_count": 331,
   "metadata": {},
   "outputs": [
    {
     "data": {
      "text/plain": [
       "9999990.0"
      ]
     },
     "execution_count": 331,
     "metadata": {},
     "output_type": "execute_result"
    }
   ],
   "source": [
    "eosapi.get_balance('helloworld12')"
   ]
  },
  {
   "cell_type": "markdown",
   "metadata": {},
   "source": [
    "### Check balance in binded ETH account"
   ]
  },
  {
   "cell_type": "code",
   "execution_count": 332,
   "metadata": {},
   "outputs": [
    {
     "data": {
      "text/plain": [
       "{'nonce': 1, 'balance': '10.0000 SYS'}"
      ]
     },
     "execution_count": 332,
     "metadata": {},
     "output_type": "execute_result"
    }
   ],
   "source": [
    "get_eth_address_info('helloworld11', eth_address)"
   ]
  },
  {
   "cell_type": "markdown",
   "metadata": {},
   "source": [
    "bind an eth address through directly\n",
    "```python\n",
    "name = 'helloworld11'\n",
    "args = bytes.fromhex('b654A7A81E0aeb7721A22F27A04ecf5aF0E8a9A3')\n",
    "try:\n",
    "    r = eosapi.push_action(name, 'activate', args, {name:'active'})\n",
    "    print('++++console:', r['processed']['action_traces'][0]['console'])\n",
    "    print(r['processed']['elapsed'])\n",
    "except Exception as e:\n",
    "    print(e)\n",
    "```"
   ]
  },
  {
   "cell_type": "markdown",
   "metadata": {},
   "source": [
    "# Deploy an ethereum smart contract"
   ]
  },
  {
   "cell_type": "code",
   "execution_count": 333,
   "metadata": {},
   "outputs": [
    {
     "name": "stdout",
     "output_type": "stream",
     "text": [
      "Done!\n"
     ]
    }
   ],
   "source": [
    "from solcx import compile_source, compile_files\n",
    "\n",
    "greeter = '''pragma solidity ^0.6.0;\n",
    "contract Greeter {\n",
    "    uint value;\n",
    "    event onSetValue(uint value);\n",
    "    event onGetValue(uint value);\n",
    "    constructor() public {\n",
    "        value = 1;\n",
    "    }\n",
    "\n",
    "    function getValue2() payable public returns (uint){\n",
    "//        msg.sender.transfer(1000);\n",
    "        emit onGetValue(value);\n",
    "        return value;\n",
    "    }\n",
    "\n",
    "    function getValue() payable public returns (string memory){\n",
    "        return \"hello,world\";\n",
    "    }\n",
    "\n",
    "    function setValue(uint v) payable public {\n",
    "        value = v;\n",
    "        emit onSetValue(v);\n",
    "    }\n",
    "}\n",
    "'''\n",
    "\n",
    "def compile(contract_source_code, main_class):\n",
    "    compiled_sol = compile_source(contract_source_code) # Compiled source code\n",
    "    contract_interface = compiled_sol[main_class]\n",
    "\n",
    "    return contract_interface\n",
    "\n",
    "\n",
    "main_class = '<stdin>:Greeter'\n",
    "contract_source_code = greeter\n",
    "contract_interface = compile(contract_source_code, main_class)\n",
    "bytecode = contract_interface['bin']\n",
    "abi = contract_interface['abi']\n",
    "print('Done!')"
   ]
  },
  {
   "cell_type": "code",
   "execution_count": 334,
   "metadata": {
    "scrolled": false
   },
   "outputs": [
    {
     "name": "stdout",
     "output_type": "stream",
     "text": [
      "logs: []\n",
      "{'new_address': '0633a42c777f64f895de1b0097de00c8d181a5e9', 'output': '6080604052600436106100345760003560e01c8063209652551461003957806355241077146100bc578063c515205d146100ea575b600080fd5b610041610108565b6040518080602001828103825283818151815260200191508051906020019080838360005b83811015610081578082015181840152602081019050610066565b50505050905090810190601f1680156100ae5780820380516001836020036101000a031916815260200191505b509250505060405180910390f35b6100e8600480360360208110156100d257600080fd5b8101908080359060200190929190505050610145565b005b6100f2610186565b6040518082815260200191505060405180910390f35b60606040518060400160405280600b81526020017f68656c6c6f2c776f726c64000000000000000000000000000000000000000000815250905090565b806000819055507ff48a1dc57eefa3de4406e65fc0fc377b25d100bd06429201a01a9e8e0e1d0773816040518082815260200191505060405180910390a150565b60007f29325e60ff39fad605f9bb4f2fd7cc0ee8e778b3f52cb561c2d8eebfcec4ca4b6000546040518082815260200191505060405180910390a160005490509056fea2646970667358221220431489fdbcfafc917a088093e7689d4e0daf29b57b355f85854663eda5eccb3764736f6c63430006000033'}\n",
      "0x0633A42c777f64f895dE1B0097de00C8D181A5e9\n"
     ]
    }
   ],
   "source": [
    "Greeter = w3.eth.contract(abi=abi, bytecode=bytecode)\n",
    "ret = Greeter.constructor().transact({'from':'0xf375C0D7E20a15b3D35AF771763CA166D54cce97'})\n",
    "logs = ret['processed']['action_traces'][0]['console']\n",
    "print('logs:', logs)\n",
    "output = ret['processed']['action_traces'][0]['receipt']['return_value']\n",
    "output = bytes.fromhex(output)\n",
    "output = output.decode('utf8')\n",
    "#print('+++++output:', output)\n",
    "output = json.loads(output)\n",
    "print(output)\n",
    "contract_address = w3.toChecksumAddress(output['new_address'])\n",
    "print(contract_address)"
   ]
  },
  {
   "cell_type": "markdown",
   "metadata": {},
   "source": [
    "#### Call setValue in ethereum smart contract"
   ]
  },
  {
   "cell_type": "code",
   "execution_count": 335,
   "metadata": {},
   "outputs": [
    {
     "data": {
      "text/plain": [
       "'0x0633A42c777f64f895dE1B0097de00C8D181A5e9'"
      ]
     },
     "execution_count": 335,
     "metadata": {},
     "output_type": "execute_result"
    }
   ],
   "source": [
    "contract_address"
   ]
  },
  {
   "cell_type": "code",
   "execution_count": 336,
   "metadata": {},
   "outputs": [
    {
     "name": "stdout",
     "output_type": "stream",
     "text": [
      "+++logs: [{\"address\":\"0633a42c777f64f895de1b0097de00c8d181a5e9\",\"data\" :\"5524107700000000000000000000000000000000000000000000000000000000ffaabbcc\",\"topics\" :[\"f48a1dc57eefa3de4406e65fc0fc377b25d100bd06429201a01a9e8e0e1d0773\"]}]\n",
      "+++output: {'new_address': '0000000000000000000000000000000000000000', 'output': ''}\n"
     ]
    }
   ],
   "source": [
    "args = {'from': eth_address,'to':contract_address}\n",
    "ret = Greeter.functions.setValue(0xffaabbcc).transact(args)\n",
    "logs = ret['processed']['action_traces'][0]['console']\n",
    "output = ret['processed']['action_traces'][0]['receipt']['return_value']\n",
    "output = bytes.fromhex(output)\n",
    "output = output.decode('utf8')\n",
    "output = json.loads(output)\n",
    "print('+++logs:', logs)\n",
    "print('+++output:', output)"
   ]
  },
  {
   "cell_type": "markdown",
   "metadata": {},
   "source": [
    "# transfer test"
   ]
  },
  {
   "cell_type": "code",
   "execution_count": 338,
   "metadata": {},
   "outputs": [
    {
     "data": {
      "text/plain": [
       "{'nonce': 3, 'balance': '10.0000 SYS'}"
      ]
     },
     "execution_count": 338,
     "metadata": {},
     "output_type": "execute_result"
    }
   ],
   "source": [
    "get_eth_address_info('helloworld11', eth_address)"
   ]
  },
  {
   "cell_type": "code",
   "execution_count": 339,
   "metadata": {},
   "outputs": [
    {
     "data": {
      "text/plain": [
       "{'nonce': 2, 'balance': '0.0000 SYS'}"
      ]
     },
     "execution_count": 339,
     "metadata": {},
     "output_type": "execute_result"
    }
   ],
   "source": [
    "get_eth_address_info('helloworld11', contract_address)"
   ]
  },
  {
   "cell_type": "markdown",
   "metadata": {},
   "source": [
    "### setValue and transfer 1.0 to contract address"
   ]
  },
  {
   "cell_type": "code",
   "execution_count": 340,
   "metadata": {},
   "outputs": [
    {
     "name": "stdout",
     "output_type": "stream",
     "text": [
      "transfer from  0xf375C0D7E20a15b3D35AF771763CA166D54cce97 to 0x0633A42c777f64f895dE1B0097de00C8D181A5e9\n",
      "[{\"address\":\"0633a42c777f64f895de1b0097de00c8d181a5e9\",\"data\" :\"5524107700000000000000000000000000000000000000000000000000000000ffaabbcc\",\"topics\" :[\"f48a1dc57eefa3de4406e65fc0fc377b25d100bd06429201a01a9e8e0e1d0773\"]}]\n",
      "{'new_address': '0000000000000000000000000000000000000000', 'output': ''}\n"
     ]
    }
   ],
   "source": [
    "print('transfer from ', eth_address, 'to', contract_address)\n",
    "args = {'from': eth_address,'to':contract_address, 'value':10000}\n",
    "ret = Greeter.functions.setValue(0xffaabbcc).transact(args)\n",
    "logs = ret['processed']['action_traces'][0]['console']\n",
    "output = ret['processed']['action_traces'][0]['receipt']['return_value']\n",
    "output = bytes.fromhex(output)\n",
    "output = output.decode('utf8')\n",
    "output = json.loads(output)\n",
    "print(logs)\n",
    "print(output)"
   ]
  },
  {
   "cell_type": "markdown",
   "metadata": {},
   "source": [
    "### get address info"
   ]
  },
  {
   "cell_type": "code",
   "execution_count": 341,
   "metadata": {},
   "outputs": [
    {
     "data": {
      "text/plain": [
       "{'nonce': 4, 'balance': '9.0000 SYS'}"
      ]
     },
     "execution_count": 341,
     "metadata": {},
     "output_type": "execute_result"
    }
   ],
   "source": [
    "get_eth_address_info('helloworld11', eth_address)"
   ]
  },
  {
   "cell_type": "code",
   "execution_count": 342,
   "metadata": {},
   "outputs": [
    {
     "data": {
      "text/plain": [
       "{'nonce': 2, 'balance': '1.0000 SYS'}"
      ]
     },
     "execution_count": 342,
     "metadata": {},
     "output_type": "execute_result"
    }
   ],
   "source": [
    "get_eth_address_info('helloworld11', contract_address)"
   ]
  },
  {
   "cell_type": "code",
   "execution_count": 343,
   "metadata": {},
   "outputs": [
    {
     "name": "stdout",
     "output_type": "stream",
     "text": [
      "Done!\n"
     ]
    }
   ],
   "source": [
    "from solcx import compile_source, compile_files\n",
    "\n",
    "greeter = '''pragma solidity ^0.6.0;\n",
    "contract Greeter {\n",
    "    uint value;\n",
    "    event onSetValue(uint value);\n",
    "    event onGetValue(uint value);\n",
    "    event onTransferBack(uint remainBalance);\n",
    "    \n",
    "    constructor() public {\n",
    "        value = 1;\n",
    "    }\n",
    "\n",
    "    function getValue2() payable public returns (uint){\n",
    "//        msg.sender.transfer(1000);\n",
    "        emit onGetValue(value);\n",
    "        return value;\n",
    "    }\n",
    "\n",
    "    function getValue() payable public returns (string memory){\n",
    "        return \"hello,world\";\n",
    "    }\n",
    "\n",
    "    function setValue(uint v) payable public {\n",
    "        require(block.gaslimit == 0x7fffffffffffffff);\n",
    "        require(block.coinbase == 0x0633A42c777f64f895dE1B0097de00C8D181A5e9);\n",
    "        require(block.difficulty == 0x020000);\n",
    "        require(blockhash(0) == 0);\n",
    "        require(ecrecover(0, 0, 0, 0) == address(0));\n",
    "        emit onSetValue(gasleft());\n",
    "    }\n",
    "\n",
    "    function transferBack() payable public {\n",
    "        uint256 oldBalance = msg.sender.balance;\n",
    "        msg.sender.transfer(10000);\n",
    "        uint256 newBalance = msg.sender.balance;\n",
    "        require(newBalance - oldBalance == 10000);\n",
    "    }\n",
    "}\n",
    "'''\n",
    "\n",
    "def compile(contract_source_code, main_class):\n",
    "    compiled_sol = compile_source(contract_source_code) # Compiled source code\n",
    "    contract_interface = compiled_sol[main_class]\n",
    "\n",
    "    return contract_interface\n",
    "\n",
    "\n",
    "main_class = '<stdin>:Greeter'\n",
    "contract_source_code = greeter\n",
    "contract_interface = compile(contract_source_code, main_class)\n",
    "bytecode = contract_interface['bin']\n",
    "abi = contract_interface['abi']\n",
    "print('Done!')\n"
   ]
  },
  {
   "cell_type": "code",
   "execution_count": 344,
   "metadata": {},
   "outputs": [
    {
     "name": "stdout",
     "output_type": "stream",
     "text": [
      "logs: []\n",
      "+++contract_address: 0x57a25B5e534745319C40969A7448c01d81350E7d\n"
     ]
    }
   ],
   "source": [
    "Greeter = w3.eth.contract(abi=abi, bytecode=bytecode)\n",
    "ret = Greeter.constructor().transact({'from':'0xf375C0D7E20a15b3D35AF771763CA166D54cce97'})\n",
    "logs = ret['processed']['action_traces'][0]['console']\n",
    "print('logs:', logs)\n",
    "output = ret['processed']['action_traces'][0]['receipt']['return_value']\n",
    "output = bytes.fromhex(output)\n",
    "output = output.decode('utf8')\n",
    "#print('+++++output:', output)\n",
    "output = json.loads(output)\n",
    "#print(output)\n",
    "contract_address = w3.toChecksumAddress(output['new_address'])\n",
    "print('+++contract_address:', contract_address)"
   ]
  },
  {
   "cell_type": "code",
   "execution_count": 345,
   "metadata": {},
   "outputs": [
    {
     "name": "stdout",
     "output_type": "stream",
     "text": [
      "+++logs: [{\"address\":\"57a25b5e534745319c40969a7448c01d81350e7d\",\"data\" :\"5524107700000000000000000000000000000000000000000000000000000000ffaabbcc\",\"topics\" :[\"f48a1dc57eefa3de4406e65fc0fc377b25d100bd06429201a01a9e8e0e1d0773\"]}]\n"
     ]
    }
   ],
   "source": [
    "args = {'from': eth_address,'to':contract_address}\n",
    "ret = Greeter.functions.setValue(0xffaabbcc).transact(args)\n",
    "logs = ret['processed']['action_traces'][0]['console']\n",
    "print('+++logs:', logs)"
   ]
  },
  {
   "cell_type": "code",
   "execution_count": 346,
   "metadata": {},
   "outputs": [
    {
     "data": {
      "text/plain": [
       "{'nonce': 6, 'balance': '9.0000 SYS'}"
      ]
     },
     "execution_count": 346,
     "metadata": {},
     "output_type": "execute_result"
    }
   ],
   "source": [
    "get_eth_address_info('helloworld11', eth_address)"
   ]
  },
  {
   "cell_type": "code",
   "execution_count": 347,
   "metadata": {},
   "outputs": [
    {
     "data": {
      "text/plain": [
       "{'nonce': 2, 'balance': '0.0000 SYS'}"
      ]
     },
     "execution_count": 347,
     "metadata": {},
     "output_type": "execute_result"
    }
   ],
   "source": [
    "get_eth_address_info('helloworld11', contract_address)"
   ]
  },
  {
   "cell_type": "code",
   "execution_count": 348,
   "metadata": {},
   "outputs": [
    {
     "name": "stdout",
     "output_type": "stream",
     "text": [
      "843\n",
      "+++logs: [{\"address\":\"57a25b5e534745319c40969a7448c01d81350e7d\",\"data\" :\"5524107700000000000000000000000000000000000000000000000000000000ffaabbcc\",\"topics\" :[\"f48a1dc57eefa3de4406e65fc0fc377b25d100bd06429201a01a9e8e0e1d0773\"]}]\n"
     ]
    }
   ],
   "source": [
    "args = {'from': eth_address,'to':contract_address, 'value': 10000} # 1.0 SYS\n",
    "ret = Greeter.functions.setValue(0xffaabbcc).transact(args)\n",
    "logs = ret['processed']['action_traces'][0]['console']\n",
    "print(ret['processed']['elapsed'])\n",
    "print('+++logs:', logs)"
   ]
  },
  {
   "cell_type": "code",
   "execution_count": 349,
   "metadata": {},
   "outputs": [
    {
     "data": {
      "text/plain": [
       "{'nonce': 7, 'balance': '8.0000 SYS'}"
      ]
     },
     "execution_count": 349,
     "metadata": {},
     "output_type": "execute_result"
    }
   ],
   "source": [
    "get_eth_address_info('helloworld11', eth_address)"
   ]
  },
  {
   "cell_type": "code",
   "execution_count": 350,
   "metadata": {},
   "outputs": [
    {
     "data": {
      "text/plain": [
       "{'nonce': 2, 'balance': '1.0000 SYS'}"
      ]
     },
     "execution_count": 350,
     "metadata": {},
     "output_type": "execute_result"
    }
   ],
   "source": [
    "get_eth_address_info('helloworld11', contract_address)"
   ]
  },
  {
   "cell_type": "markdown",
   "metadata": {},
   "source": [
    "# test transfer from contract address back"
   ]
  },
  {
   "cell_type": "code",
   "execution_count": 351,
   "metadata": {},
   "outputs": [
    {
     "name": "stdout",
     "output_type": "stream",
     "text": [
      "574\n",
      "+++logs: []\n"
     ]
    }
   ],
   "source": [
    "args = {'from': eth_address,'to':contract_address} # 1.0 SYS\n",
    "ret = Greeter.functions.transferBack().transact(args)\n",
    "logs = ret['processed']['action_traces'][0]['console']\n",
    "print(ret['processed']['elapsed'])\n",
    "\n",
    "print('+++logs:', logs)"
   ]
  },
  {
   "cell_type": "code",
   "execution_count": 352,
   "metadata": {},
   "outputs": [
    {
     "data": {
      "text/plain": [
       "{'nonce': 8, 'balance': '9.0000 SYS'}"
      ]
     },
     "execution_count": 352,
     "metadata": {},
     "output_type": "execute_result"
    }
   ],
   "source": [
    "get_eth_address_info('helloworld11', eth_address)"
   ]
  },
  {
   "cell_type": "code",
   "execution_count": 353,
   "metadata": {},
   "outputs": [
    {
     "data": {
      "text/plain": [
       "{'nonce': 2, 'balance': '0.0000 SYS'}"
      ]
     },
     "execution_count": 353,
     "metadata": {},
     "output_type": "execute_result"
    }
   ],
   "source": [
    "get_eth_address_info('helloworld11', contract_address)"
   ]
  },
  {
   "cell_type": "code",
   "execution_count": null,
   "metadata": {},
   "outputs": [],
   "source": []
  },
  {
   "cell_type": "code",
   "execution_count": null,
   "metadata": {},
   "outputs": [],
   "source": []
  },
  {
   "cell_type": "code",
   "execution_count": null,
   "metadata": {},
   "outputs": [],
   "source": []
  },
  {
   "cell_type": "code",
   "execution_count": null,
   "metadata": {},
   "outputs": [],
   "source": []
  },
  {
   "cell_type": "markdown",
   "metadata": {},
   "source": [
    "# 1. The Application MUST persist an “Account Table” consisting of:\n",
    "> * A unique 160bit account ID\n",
    "> * A nonce (sequence number)\n",
    "> * An EOSIO token balance (aka SYS)\n",
    "> * [optionally,] a unique associated EOSIO account\n"
   ]
  },
  {
   "cell_type": "markdown",
   "metadata": {},
   "source": [
    "# 2. The Application MUST persist an “Account State Table” per account, if it would not be empty, consisting of:\n",
    "> * A unique 256bit key\n",
    "> * A 256bit value\n"
   ]
  },
  {
   "cell_type": "markdown",
   "metadata": {},
   "source": [
    "# 3.The Application MUST persist an “Account Code Table” per account, if it would not be empty, consisting of:\n",
    "EVM bytecode associated with account"
   ]
  },
  {
   "cell_type": "markdown",
   "metadata": {},
   "source": [
    "### 4. The Application MUST execute EVM transactions as faithfully to the Ethereum Yellow Paper as Possible, with the following specific requirements:"
   ]
  },
  {
   "cell_type": "markdown",
   "metadata": {},
   "source": [
    "1. There will be no effective BLOCK gas limit. Instructions that return a BLOCK limit should return a  sufficiently large supply\n",
    "check code at:\n",
    "[evm4eos/main.cpp#L108](https://github.com/learnforpractice/aleth/blob/5620dbe19ab5d8b4d7b0e9be77bf45eb461d49d2/evm4eos/main.cpp#L108)\n",
    "\n",
    "2. The TRANSACTION gas limit will be enforced\n",
    "check code at [evm4eos/main.cpp#L83](https://github.com/learnforpractice/aleth/blob/5620dbe19ab5d8b4d7b0e9be77bf45eb461d49d2/evm4eos/main.cpp#L83)\n",
    "and [evm4eos/main.cpp#L169](https://github.com/learnforpractice/aleth/blob/5620dbe19ab5d8b4d7b0e9be77bf45eb461d49d2/evm4eos/main.cpp#L169)\n",
    "\n",
    "3. The sender WILL NOT be billed for the gas, the gas price MAY therefore be locked at some suitable value.\n",
    "\n",
    "check code at [evm4eos/main.cpp#L83](https://github.com/learnforpractice/aleth/blob/5620dbe19ab5d8b4d7b0e9be77bf45eb461d49d2/evm4eos/main.cpp#L83)\n",
    "and [evm4eos/main.cpp#L169](https://github.com/learnforpractice/aleth/blob/5620dbe19ab5d8b4d7b0e9be77bf45eb461d49d2/evm4eos/main.cpp#L169)\n",
    "\n",
    "4. All other gas mechanics/instructions should be maintained\n",
    "\n",
    "5. Block number and timestamp should represent the native EOSIO block number and time\n",
    "\n",
    "check code at [main.cpp#L150](https://github.com/learnforpractice/aleth/blob/5620dbe19ab5d8b4d7b0e9be77bf45eb461d49d2/evm4eos/main.cpp#L150)\n",
    "\n",
    "6. Block hash, coinbase, and difficulty should return static values\n",
    "\n",
    "\n",
    "check code at [evm4eos/EosExtVM.cpp#L188](https://github.com/learnforpractice/aleth/blob/5620dbe19ab5d8b4d7b0e9be77bf45eb461d49d2/evm4eos/EosExtVM.cpp#L188)\n",
    "and\n",
    "[libevm2/LegacyVM.cpp#L1396](https://github.com/learnforpractice/aleth/blob/5620dbe19ab5d8b4d7b0e9be77bf45eb461d49d2/libevm2/LegacyVM.cpp#L1396)\n",
    "and\n",
    "[main.cpp#L111](https://github.com/learnforpractice/aleth/blob/5620dbe19ab5d8b4d7b0e9be77bf45eb461d49d2/evm4eos/main.cpp#L111)\n"
   ]
  },
  {
   "cell_type": "markdown",
   "metadata": {},
   "source": [
    "# 5. The Application MUST implement an action named “raw”:\n",
    "\n",
    "Whose inputs are:\n",
    "> * a binary Ethereum transaction encoded as it appears in a serialized Ethereum block\n",
    "[optionally,]\n",
    "> * a 160bit account identifier “Sender”\n",
    "\n",
    "Which results in the:\n",
    "> * Appropriate Updates to Account, Account State, and Account Code Tables reflecting the application of the transaction\n",
    "> * Log output (via EOSIO print intrinsics)\n",
    "\n",
    "If the “R” and “S” values of the transaction are NOT 0:\n",
    "> * A transaction containing this action must fail if the signature (V, R, S) within the input does not recover to a valid and known 160bit account identifier in the Accounts Table\n",
    "\n",
    "If the “R” and “S” values of the transaction are 0:\n",
    "> * A transaction containing this action must fail if “Sender” input parameter is not present or does not refer to a valid and known 160bit account identifier in the Accounts Table\n",
    "\n",
    "> * If the associated entry in the Accounts Table has no Associated EOSIO Account OR if the transaction has not been authorized by the Associated EOSIO Account"
   ]
  },
  {
   "cell_type": "markdown",
   "metadata": {},
   "source": [
    "# 6. The Application MUST implement an action named “create”:\n",
    "\n",
    "Whose inputs are:\n",
    "> * An EOSIO account\n",
    "> * An arbitrary length string\n",
    "\n",
    "Which results in new Account Table entry with:\n",
    "> * Balance = 0\n",
    "> * Nonce = 1\n",
    "> * Account identifier = the rightmost 160 bits of the Keccak hash of the RLP encoding of the structure containing only the EOSIO account name and the arbitrary input string.\n",
    "\n",
    "A transaction containing this action must fail if it is not authorized by the EOSIO account listed in the inputs\n",
    "\n",
    "A transaction containing this action must fail if an Account Table Entry exists with this EOSIO account associated.\n"
   ]
  },
  {
   "cell_type": "markdown",
   "metadata": {},
   "source": [
    "# 7. The Application MUST respond to EOSIO token transfers:\n",
    "7.1 Provided that the EOSIO account in the “from” field of the transfer maps to a known and valid Account Table entry through the entry’s unique Associated EOSIO account\n",
    "\n",
    "7.2 Transferred tokens should be added to the Account Table entry’s balance"
   ]
  },
  {
   "cell_type": "markdown",
   "metadata": {},
   "source": [
    "# 8. The Application MUST implement an action named “withdraw”:\n",
    "Whose inputs are:\n",
    "> * An EOSIO account\n",
    "> * A token amount\n",
    "\n",
    "Which results in:\n",
    "> * Deducting the amount from the associated Account Table Entry’s balance\n",
    "> * Sending an inline EOSIO token transfer for the amount to the EOSIO account\n",
    "\n",
    "A transaction containing this action must fail if it is not authorized by the EOSIO account listed in the inputs OR if such a withdrawal would leave the Account Table Entry’s balance negative.\n",
    "\n",
    "\n",
    "\n",
    "\n"
   ]
  },
  {
   "cell_type": "markdown",
   "metadata": {},
   "source": [
    "# 9. The Application MAY implement additional actions for maintenance or transaction processing so long as they do not violate the key principles of the execution model above."
   ]
  },
  {
   "cell_type": "markdown",
   "metadata": {},
   "source": [
    "# 10. The Application MUST implement some method of specifying the “CHAIN_ID” for EIP-155 compatibility:\n",
    "This MAY be done at compile time\n",
    "This MAY be done with an additional initialization action"
   ]
  }
 ],
 "metadata": {
  "kernelspec": {
   "display_name": "Python 3",
   "language": "python",
   "name": "python3"
  },
  "language_info": {
   "codemirror_mode": {
    "name": "ipython",
    "version": 3
   },
   "file_extension": ".py",
   "mimetype": "text/x-python",
   "name": "python",
   "nbconvert_exporter": "python",
   "pygments_lexer": "ipython3",
   "version": "3.7.4"
  }
 },
 "nbformat": 4,
 "nbformat_minor": 2
}
